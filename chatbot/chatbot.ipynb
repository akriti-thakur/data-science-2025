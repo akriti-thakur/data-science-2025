{
 "cells": [
  {
   "cell_type": "code",
   "execution_count": 1,
   "id": "7e66a3de",
   "metadata": {},
   "outputs": [],
   "source": [
    "import nltk\n",
    "import random\n",
    "import string \n",
    "from sklearn.feature_extraction.text import TfidfVectorizer\n",
    "from sklearn.metrics.pairwise import cosine_similarity\n"
   ]
  },
  {
   "cell_type": "code",
   "execution_count": 2,
   "id": "59a350cd",
   "metadata": {},
   "outputs": [
    {
     "name": "stderr",
     "output_type": "stream",
     "text": [
      "[nltk_data] Downloading package punkt to /home/atwal/nltk_data...\n",
      "[nltk_data]   Package punkt is already up-to-date!\n",
      "[nltk_data] Downloading package punkt_tab to /home/atwal/nltk_data...\n",
      "[nltk_data]   Package punkt_tab is already up-to-date!\n",
      "[nltk_data] Downloading package wordnet to /home/atwal/nltk_data...\n",
      "[nltk_data]   Package wordnet is already up-to-date!\n",
      "[nltk_data] Downloading package omw-1.4 to /home/atwal/nltk_data...\n",
      "[nltk_data]   Package omw-1.4 is already up-to-date!\n"
     ]
    },
    {
     "data": {
      "text/plain": [
       "True"
      ]
     },
     "execution_count": 2,
     "metadata": {},
     "output_type": "execute_result"
    }
   ],
   "source": [
    "\n",
    "nltk.download('punkt')\n",
    "nltk.download('punkt_tab')\n",
    "nltk.download('wordnet')\n",
    "nltk.download('omw-1.4')"
   ]
  },
  {
   "cell_type": "code",
   "execution_count": 3,
   "id": "c7dcb960",
   "metadata": {},
   "outputs": [
    {
     "name": "stdout",
     "output_type": "stream",
     "text": [
      "Total sentences: 7\n",
      "Total words: 1521\n"
     ]
    }
   ],
   "source": [
    "with open(\"panjab.txt\", 'r', errors='ignore') as f:\n",
    "    raw = f.read().lower()\n",
    "\n",
    "sent_tokens= nltk.sent_tokenize(raw)\n",
    "word_tokens = nltk.word_tokenize(raw)\n",
    "\n",
    "print(\"Total sentences:\", len(sent_tokens))\n",
    "print(\"Total words:\", len(word_tokens))"
   ]
  },
  {
   "cell_type": "code",
   "execution_count": 4,
   "id": "e6978f39",
   "metadata": {},
   "outputs": [],
   "source": [
    "from nltk.stem import WordNetLemmatizer\n",
    "\n",
    "lemmer = nltk.stem.WordNetLemmatizer()\n",
    "remove_punct_dict = dict((ord(punct), None) for punct in string.punctuation)\n",
    "\n",
    "def LemTokens(tokens):\n",
    "    return [lemmer.lemmatize(token) for token in tokens]\n",
    "\n",
    "def LemNormalize(text):\n",
    "    return LemTokens(nltk.word_tokenize(text.lower().translate(remove_punct_dict)))\n"
   ]
  },
  {
   "cell_type": "code",
   "execution_count": 6,
   "id": "4bd67d89",
   "metadata": {},
   "outputs": [],
   "source": [
    "GREETING_INPUTS = (\"hello\", \"hi\", \"greetings\", \"sup\", \"what's up\", \"hey\")\n",
    "THANK_INPUTS = (\"thanks\", \"thank you\", \"thank you so much\")\n",
    "BYE_INPUTS = (\"bye\", \"leave\", \"quit\", \"exit\", \"goodbye\")\n",
    "\n",
    "def detect_intent(user_input):\n",
    "    if user_input in THANK_INPUTS:\n",
    "        return \"thank_you\"\n",
    "    if user_input in GREETING_INPUTS:\n",
    "        return \"greeting\"\n",
    "    if \"tell me more\" in user_input:\n",
    "        return \"tell_me_more\"\n",
    "    if user_input in BYE_INPUTS:\n",
    "        return \"exit\"\n",
    "    return \"faq\" \n"
   ]
  },
  {
   "cell_type": "code",
   "execution_count": 7,
   "id": "ae9ac856",
   "metadata": {},
   "outputs": [],
   "source": [
    "def faq_answer(user_input):\n",
    "    global last_idx, last_user_query\n",
    "    sent_tokens.append(user_input)\n",
    "    TfidfVec = TfidfVectorizer(tokenizer=LemNormalize, stop_words='english', token_pattern=None)\n",
    "    tfidf = TfidfVec.fit_transform(sent_tokens)\n",
    "    vals = cosine_similarity(tfidf[-1], tfidf)\n",
    "    idx = vals.argsort()[0][-2]\n",
    "    flat = vals.flatten()\n",
    "    flat.sort()\n",
    "    req_tfidf = flat[-2]\n",
    "    sent_tokens.remove(user_input)\n",
    "    \n",
    "    if req_tfidf == 0:\n",
    "        last_idx = None\n",
    "        last_user_query = None\n",
    "        return None\n",
    "    else:\n",
    "        last_idx = idx\n",
    "        last_user_query = user_input \n",
    "        return sent_tokens[idx]"
   ]
  },
  {
   "cell_type": "code",
   "execution_count": 8,
   "id": "b0d4ff11",
   "metadata": {},
   "outputs": [],
   "source": [
    "def get_related_sentences(query, top_n=3):\n",
    "    global last_related_sentences, last_related_index\n",
    "    \n",
    "    sent_tokens.append(query)\n",
    "    TfidfVec = TfidfVectorizer(tokenizer=LemNormalize, stop_words='english', token_pattern=None)\n",
    "    tfidf = TfidfVec.fit_transform(sent_tokens)\n",
    "    vals = cosine_similarity(tfidf[-1], tfidf)\n",
    "    \n",
    "    # Get indices of top similar sentences\n",
    "    sorted_indices = vals.argsort()[0][-top_n-1:-1] \n",
    "    \n",
    "    sent_tokens.remove(query)\n",
    "    \n",
    "    # Filter out sentences with very low similarity\n",
    "    related_sentences = []\n",
    "    for idx in sorted_indices:\n",
    "        if vals[0][idx] > 0.1: \n",
    "            related_sentences.append((idx, sent_tokens[idx]))\n",
    "    \n",
    "    # Sort by similarity score\n",
    "    related_sentences.sort(key=lambda x: vals[0][x[0]], reverse=True)\n",
    "    \n",
    "    last_related_sentences = related_sentences\n",
    "    last_related_index = 0\n",
    "    \n",
    "    return related_sentences"
   ]
  },
  {
   "cell_type": "code",
   "execution_count": 9,
   "id": "cbffd558",
   "metadata": {},
   "outputs": [],
   "source": [
    "def tell_me_more():\n",
    "    global last_related_sentences, last_related_index, last_user_query\n",
    "    \n",
    "    # If we don't have a previous query, return None\n",
    "    if last_user_query is None:\n",
    "        return None\n",
    "    \n",
    "    # If we haven't generated related sentences yet, generate them\n",
    "    if not last_related_sentences:\n",
    "        last_related_sentences = get_related_sentences(last_user_query, top_n=5)\n",
    "        last_related_index = 1  \n",
    "    \n",
    "    # If we have more related sentences to show\n",
    "    if last_related_index < len(last_related_sentences):\n",
    "        sentence = last_related_sentences[last_related_index][1]\n",
    "        last_related_index += 1\n",
    "        return sentence\n",
    "    else:\n",
    "        # No more related information\n",
    "        return None"
   ]
  },
  {
   "cell_type": "code",
   "execution_count": 10,
   "id": "4d687a51",
   "metadata": {},
   "outputs": [],
   "source": [
    "def generate_response(intent, user_input):\n",
    "    if intent == \"greeting\":\n",
    "        return random.choice([\n",
    "            \"Hi! I'm here to help you with information about the Department of Computer Science & Applications at Panjab University. What would you like to know?\",\n",
    "            \"Hello! Ask me anything about DCSA, Panjab University!\",\n",
    "            \"Hey there! I can help you with queries about our Computer Science department. Fire away!\"\n",
    "        ])\n",
    "    elif intent == \"thank_you\":\n",
    "        return random.choice([\n",
    "            \"You're welcome! Feel free to ask more questions.\",\n",
    "            \"Happy to help! Anything else you'd like to know?\",\n",
    "            \"Glad I could help! Do you have any other questions?\"\n",
    "        ])\n",
    "    elif intent == \"tell_me_more\":\n",
    "        more_info = tell_me_more()\n",
    "        if more_info:\n",
    "            return f\"Here's more information: {more_info}\"\n",
    "        else:\n",
    "            return \"I don't have additional details on this topic right now. You can ask me about something else!\"\n",
    "    elif intent == \"faq\":\n",
    "        answer = faq_answer(user_input)\n",
    "        if answer:\n",
    "            get_related_sentences(user_input, top_n=5)\n",
    "            return f\"Here's what I found: {answer}\\n\\n(Type 'tell me more' if you want additional information on this topic)\"\n",
    "        else:\n",
    "            return \"I couldn't find relevant information. Could you try rephrasing your question or ask about something more specific like admissions, fees, courses, or placements?\"\n",
    "    elif intent == \"exit\":\n",
    "        return \"Goodbye! Thanks for using ChatBot — take care and have a wonderful day ahead! 👋\"    \n",
    "    else:\n",
    "        return \"I didn't quite understand that. Could you please rephrase your question?\""
   ]
  },
  {
   "cell_type": "code",
   "execution_count": 11,
   "id": "2957542a",
   "metadata": {},
   "outputs": [],
   "source": [
    "# For frontend\n",
    "def response(user_input):\n",
    "    ui = user_input.lower().strip()\n",
    "    intent = detect_intent(ui)\n",
    "    return generate_response(intent, user_input)\n"
   ]
  },
  {
   "cell_type": "code",
   "execution_count": 12,
   "id": "a15d0137",
   "metadata": {},
   "outputs": [
    {
     "name": "stdout",
     "output_type": "stream",
     "text": [
      "🤖 ChatBot: Hi! I am ChatBot 🤖. I can answer your queries about Department of Computer Science and Applications, Panjab University.\n",
      "You can ask me about:\n",
      "• Courses and programs (MCA, M.Sc., Ph.D.)\n",
      "• Admissions and fees\n",
      "• Placements and career opportunities\n",
      "• Infrastructure and facilities\n",
      "• Faculty and research\n",
      "\n",
      "Type 'tell me more' after any answer to get additional details!\n",
      "Type 'bye' to exit.\n",
      "\n",
      "🤖 ChatBot: Here's what I found: building\n",
      "  panjab university, sector 14\n",
      "  chandigarh, u.t.\n",
      "\n",
      "(Type 'tell me more' if you want additional information on this topic)\n",
      "\n"
     ]
    },
    {
     "name": "stderr",
     "output_type": "stream",
     "text": [
      "/home/atwal/.local/lib/python3.13/site-packages/sklearn/feature_extraction/text.py:402: UserWarning: Your stop_words may be inconsistent with your preprocessing. Tokenizing the stop words generated tokens ['ha', 'u', 'wa'] not in stop_words.\n",
      "  warnings.warn(\n"
     ]
    },
    {
     "name": "stdout",
     "output_type": "stream",
     "text": [
      "🤖 ChatBot: Here's what I found: building\n",
      "  panjab university, sector 14\n",
      "  chandigarh, u.t.\n",
      "\n",
      "(Type 'tell me more' if you want additional information on this topic)\n",
      "\n",
      "🤖 ChatBot: Here's what I found: # panjab university - department of computer science & applications (dcsa)\n",
      "## complete information guide\n",
      "\n",
      "---\n",
      "\n",
      "## *university overview*\n",
      "\n",
      "### basic information\n",
      "- *full name*: panjab university\n",
      "- *established*: 1882 (originally in lahore)\n",
      "- *current location*: chandigarh, india\n",
      "- *type*: inter-state body corporate\n",
      "- *status*: one of india's oldest and most prestigious universities\n",
      "\n",
      "### campus details\n",
      "- *location*: chandigarh (union territory)\n",
      "- *campus design*: red sandstone campus designed by pierre jeanneret under le corbusier's guidance\n",
      "- *move to chandigarh*: 1958-1960\n",
      "- *total departments*: 74 teaching and research departments/institutes/centres\n",
      "- *research chairs*: 6 independent research chairs\n",
      "- *affiliated colleges*: 202 colleges across punjab and chandigarh\n",
      "- *constituent colleges*: 6 colleges\n",
      "- *regional centres*: muktsar, ludhiana, hoshiarpur, and kauni\n",
      "\n",
      "### university infrastructure\n",
      "- *buildings*: 38 buildings interconnected with fiber-optic gigabit backbone\n",
      "- *internet connectivity*: ~24 mbps (ernet & reliance)\n",
      "- *special institute*: vishveshavaranand vishwa bandhu institute of sanskrit and indological studies at hoshiarpur\n",
      "\n",
      "---\n",
      "\n",
      "## *department of computer science & applications (dcsa)*\n",
      "\n",
      "### department history\n",
      "- *computer culture started*: 1966\n",
      "- *department established*: 1983 (initially as centre for computer science and applications)\n",
      "- *mission*: instilling ingenuity, innovativeness, and technical competence through rigorous competition and guidance\n",
      "- *service area*: caters to regional user needs and organizes programs for teaching and research communities\n",
      "\n",
      "### department location & contact\n",
      "- *address*: \n",
      "  \n",
      "  department of computer science & applications\n",
      "  top floor, c.i.l.\n",
      "\n",
      "(Type 'tell me more' if you want additional information on this topic)\n",
      "\n",
      "🤖 ChatBot: Goodbye! Thanks for using ChatBot — take care and have a wonderful day ahead! 👋\n"
     ]
    }
   ],
   "source": [
    "# Global variables\n",
    "last_idx = None\n",
    "last_user_query = None\n",
    "last_related_sentences = []\n",
    "last_related_index = 0\n",
    "\n",
    "print(\"🤖 ChatBot: Hi! I am ChatBot 🤖. I can answer your queries about Department of Computer Science and Applications, Panjab University.\")\n",
    "print(\"You can ask me about:\")\n",
    "print(\"• Courses and programs (MCA, M.Sc., Ph.D.)\")\n",
    "print(\"• Admissions and fees\")  \n",
    "print(\"• Placements and career opportunities\")\n",
    "print(\"• Infrastructure and facilities\")\n",
    "print(\"• Faculty and research\")\n",
    "print(\"\\nType 'tell me more' after any answer to get additional details!\")\n",
    "print(\"Type 'bye' to exit.\\n\")\n",
    "\n",
    "if __name__ == \"__main__\":\n",
    "    while True:\n",
    "        user_response = input(\"You: \").lower().strip()\n",
    "        intent = detect_intent(user_response)\n",
    "        bot_reply = generate_response(intent, user_response)\n",
    "        print(\"🤖 ChatBot:\", bot_reply)\n",
    "        \n",
    "        if intent == \"exit\":\n",
    "            break      \n",
    "        \n",
    "        print()\n"
   ]
  },
  {
   "cell_type": "code",
   "execution_count": null,
   "id": "e2d8825a",
   "metadata": {},
   "outputs": [],
   "source": []
  }
 ],
 "metadata": {
  "kernelspec": {
   "display_name": "Python 3",
   "language": "python",
   "name": "python3"
  },
  "language_info": {
   "codemirror_mode": {
    "name": "ipython",
    "version": 3
   },
   "file_extension": ".py",
   "mimetype": "text/x-python",
   "name": "python",
   "nbconvert_exporter": "python",
   "pygments_lexer": "ipython3",
   "version": "3.13.7"
  }
 },
 "nbformat": 4,
 "nbformat_minor": 5
}

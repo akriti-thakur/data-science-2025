{
 "cells": [
  {
   "cell_type": "code",
   "execution_count": 1,
   "id": "7e66a3de",
   "metadata": {},
   "outputs": [],
   "source": [
    "import nltk\n",
    "import random\n",
    "import string \n",
    "from sklearn.feature_extraction.text import TfidfVectorizer\n",
    "from sklearn.metrics.pairwise import cosine_similarity\n"
   ]
  },
  {
   "cell_type": "code",
   "execution_count": 3,
   "id": "59a350cd",
   "metadata": {},
   "outputs": [
    {
     "name": "stderr",
     "output_type": "stream",
     "text": [
      "[nltk_data] Downloading package punkt to /home/atwal/nltk_data...\n",
      "[nltk_data]   Package punkt is already up-to-date!\n",
      "[nltk_data] Downloading package punkt_tab to /home/atwal/nltk_data...\n",
      "[nltk_data]   Package punkt_tab is already up-to-date!\n",
      "[nltk_data] Downloading package wordnet to /home/atwal/nltk_data...\n",
      "[nltk_data]   Package wordnet is already up-to-date!\n",
      "[nltk_data] Downloading package omw-1.4 to /home/atwal/nltk_data...\n",
      "[nltk_data]   Package omw-1.4 is already up-to-date!\n"
     ]
    },
    {
     "data": {
      "text/plain": [
       "True"
      ]
     },
     "execution_count": 3,
     "metadata": {},
     "output_type": "execute_result"
    }
   ],
   "source": [
    "\n",
    "nltk.download('punkt')\n",
    "nltk.download('punkt_tab')\n",
    "nltk.download('wordnet')\n",
    "nltk.download('omw-1.4')"
   ]
  },
  {
   "cell_type": "code",
   "execution_count": 4,
   "id": "c7dcb960",
   "metadata": {},
   "outputs": [
    {
     "name": "stdout",
     "output_type": "stream",
     "text": [
      "Total sentences: 54\n",
      "Total words: 1475\n"
     ]
    }
   ],
   "source": [
    "with open(\"panjabdcsa.txt\", 'r', errors='ignore') as f:\n",
    "    raw = f.read().lower()\n",
    "\n",
    "sent_tokens= nltk.sent_tokenize(raw)\n",
    "word_tokens = nltk.word_tokenize(raw)\n",
    "\n",
    "print(\"Total sentences:\", len(sent_tokens))\n",
    "print(\"Total words:\", len(word_tokens))\n"
   ]
  },
  {
   "cell_type": "code",
   "execution_count": 5,
   "id": "e6978f39",
   "metadata": {},
   "outputs": [],
   "source": [
    "from nltk.stem import WordNetLemmatizer\n",
    "\n",
    "lemmer = nltk.stem.WordNetLemmatizer()\n",
    "remove_punct_dict = dict((ord(punct), None) for punct in string.punctuation)\n",
    "\n",
    "def LemTokens(tokens):\n",
    "    return [lemmer.lemmatize(token) for token in tokens]\n",
    "\n",
    "def LemNormalize(text):\n",
    "    return LemTokens(nltk.word_tokenize(text.lower().translate(remove_punct_dict)))\n"
   ]
  },
  {
   "cell_type": "code",
   "execution_count": 6,
   "id": "4bd67d89",
   "metadata": {},
   "outputs": [],
   "source": [
    "GREETING_INPUTS = (\"hello\", \"hi\", \"greetings\", \"sup\", \"what's up\", \"hey\")\n",
    "THANK_INPUTS = (\"thanks\", \"thank you\", \"thank you so much\")\n",
    "\n",
    "def detect_intent(user_input):\n",
    "    if user_input in THANK_INPUTS:\n",
    "        return \"thank_you\"\n",
    "    if user_input in GREETING_INPUTS:\n",
    "        return \"greeting\"\n",
    "    if \"tell me more\" in user_input:\n",
    "        return \"tell_me_more\"\n",
    "    if user_input == \"bye\":\n",
    "        return \"exit\"\n",
    "    return \"faq\" \n"
   ]
  },
  {
   "cell_type": "code",
   "execution_count": 7,
   "id": "ae9ac856",
   "metadata": {},
   "outputs": [],
   "source": [
    "def faq_answer(user_input):\n",
    "    global last_idx\n",
    "    sent_tokens.append(user_input)\n",
    "\n",
    "    TfidfVec = TfidfVectorizer(tokenizer=LemNormalize, stop_words='english', token_pattern=None)\n",
    "    tfidf = TfidfVec.fit_transform(sent_tokens)\n",
    "    vals = cosine_similarity(tfidf[-1], tfidf)\n",
    "    idx = vals.argsort()[0][-2]\n",
    "\n",
    "    flat = vals.flatten()\n",
    "    flat.sort()\n",
    "    req_tfidf = flat[-2]\n",
    "\n",
    "    sent_tokens.remove(user_input)\n",
    "\n",
    "    if req_tfidf == 0:\n",
    "        last_idx = None\n",
    "        return None\n",
    "    else:\n",
    "        last_idx = idx\n",
    "        return sent_tokens[idx]"
   ]
  },
  {
   "cell_type": "code",
   "execution_count": 8,
   "id": "cbffd558",
   "metadata": {},
   "outputs": [],
   "source": [
    "def tell_me_more():\n",
    "    global last_idx\n",
    "    if last_idx is not None and last_idx + 1 < len(sent_tokens):\n",
    "        last_idx += 1\n",
    "        return sent_tokens[last_idx]\n",
    "    else:\n",
    "        return None"
   ]
  },
  {
   "cell_type": "code",
   "execution_count": 9,
   "id": "4d687a51",
   "metadata": {},
   "outputs": [],
   "source": [
    "def generate_response(intent, user_input):\n",
    "    if intent == \"greeting\":\n",
    "        return random.choice([\"Hi!\", \"Hey!\", \"Hello! I’m glad you’re here.\"])\n",
    "    elif intent == \"thank_you\":\n",
    "        return \"You're welcome!\"\n",
    "    elif intent == \"tell_me_more\":\n",
    "        more_info = tell_me_more()\n",
    "        return f\"Sure! Here's more: {more_info}\" if more_info else \"I don’t have more details right now.\"\n",
    "    elif intent == \"faq\":\n",
    "        answer = faq_answer(user_input)\n",
    "        return f\"Here’s what I found: {answer}\" if answer else \"Hmm... I’m not sure. Could you ask differently?\"\n",
    "    elif intent == \"exit\":\n",
    "        return \"Goodbye! Take care.\"\n",
    "    else:\n",
    "        return \"I didn’t quite get that.\""
   ]
  },
  {
   "cell_type": "code",
   "execution_count": 10,
   "id": "a15d0137",
   "metadata": {},
   "outputs": [
    {
     "name": "stdout",
     "output_type": "stream",
     "text": [
      "Chatbot: Hi! I am DeptBot 🤖. I can answer your queries about Department of Computer Science and Applications, Panjab University.\n",
      "Type 'bye' to exit.\n",
      "Chatbot: Hi!\n",
      "Chatbot: Here’s what I found: panjab university | brief history and present infrastructure\n",
      "-------------------------------------------------------------\n",
      "- one of the oldest universities in india, the panjab university (pu) initiated at lahore in 1882, has a long tradition of pursuing excellence in teaching and research in science and technology, humanities, social sciences, performing arts and sports.\n"
     ]
    },
    {
     "name": "stderr",
     "output_type": "stream",
     "text": [
      "/var/data/python/lib/python3.12/site-packages/sklearn/feature_extraction/text.py:402: UserWarning: Your stop_words may be inconsistent with your preprocessing. Tokenizing the stop words generated tokens ['ha', 'u', 'wa'] not in stop_words.\n",
      "  warnings.warn(\n"
     ]
    },
    {
     "name": "stdout",
     "output_type": "stream",
     "text": [
      "Chatbot: Sure! Here's more: the university supports excellence and innovation in academic programmes, promotes excellence in research, scholarship and teaching.\n",
      "Chatbot: Here’s what I found: panjab university | overview\n",
      "-----------------------------\n",
      "- established in 1882 in lahore and currently located in chandigarh.\n",
      "Chatbot: Here’s what I found: department of computer science & applications (dcsa) | overview\n",
      "---------------------------------------------------------------\n",
      "- the computer culture at the panjab university dates back to 1966. an independent centre for computer science and applications (now a full fledged department) was set-up in 1983. the department aims at ingraining the spirit of ingenuity, innovativeness and technical competence in the students through rigorous competition and regular guidance.\n",
      "Chatbot: Sure! Here's more: the department also caters to the need of users in the region and organizes programmes for teaching and research communities.\n",
      "Chatbot: Here’s what I found: master of computer applications (mca) (2 years full time course) in self financed mode and master of science (computer science) under the framework of the hon's school (02 years full time course).\n",
      "Chatbot: Here’s what I found: - value-added courses offered:\n",
      "  - artificial intelligence\n",
      "  - emerging technologies in computer science\n",
      "  - green computing\n",
      "  - introduction to data science\n",
      "  - mobile application development\n",
      "  - python programming\n",
      "  - web application development\n",
      "\n",
      "fee details (approximate)\n",
      "-------------------------\n",
      "- mca: ₹40,000 – ₹1,40,000 per year (varies by category).\n",
      "Chatbot: Here’s what I found: contact us\n",
      "----------\n",
      "anuj sharma\n",
      "chairperson\n",
      "department of computer science & applications\n",
      "top floor\n",
      "c.i.l.\n",
      "Chatbot: You're welcome!\n",
      "Chatbot: Goodbye! Take care.\n"
     ]
    }
   ],
   "source": [
    "last_idx = None\n",
    "print(\"Chatbot: Hi! I am DeptBot 🤖. I can answer your queries about Department of Computer Science and Applications, Panjab University.\\nType 'bye' to exit.\")\n",
    "\n",
    "while True:\n",
    "    user_response = input(\"You: \").lower().strip()\n",
    "    intent = detect_intent(user_response)\n",
    "    bot_reply = generate_response(intent, user_response)\n",
    "    print(\"Chatbot:\", bot_reply)\n",
    "    if intent == \"exit\":\n",
    "        break"
   ]
  },
  {
   "cell_type": "code",
   "execution_count": null,
   "id": "5287083d",
   "metadata": {},
   "outputs": [],
   "source": []
  }
 ],
 "metadata": {
  "kernelspec": {
   "display_name": "Python 3",
   "language": "python",
   "name": "python3"
  },
  "language_info": {
   "codemirror_mode": {
    "name": "ipython",
    "version": 3
   },
   "file_extension": ".py",
   "mimetype": "text/x-python",
   "name": "python",
   "nbconvert_exporter": "python",
   "pygments_lexer": "ipython3",
   "version": "3.12.11"
  }
 },
 "nbformat": 4,
 "nbformat_minor": 5
}
